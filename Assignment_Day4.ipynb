{
 "cells": [
  {
   "cell_type": "raw",
   "metadata": {},
   "source": [
    "Finding Armstrong Number"
   ]
  },
  {
   "cell_type": "code",
   "execution_count": null,
   "metadata": {},
   "outputs": [],
   "source": [
    "for n in range(1042000,702648266):\n",
    "    sum = 0\n",
    "    order = len(str(n))\n",
    "    copy_num = n\n",
    "    while n > 0:\n",
    "        digit = n % 10\n",
    "        sum += digit**order\n",
    "        n = n // 10\n",
    "\n",
    "    lst=[]\n",
    "    \n",
    "    if sum == copy_num:\n",
    "        lst.append(copy_num)\n",
    "\n",
    "print(lst[0]) "
   ]
  },
  {
   "cell_type": "code",
   "execution_count": null,
   "metadata": {},
   "outputs": [],
   "source": []
  }
 ],
 "metadata": {
  "kernelspec": {
   "display_name": "Python 3",
   "language": "python",
   "name": "python3"
  },
  "language_info": {
   "codemirror_mode": {
    "name": "ipython",
    "version": 3
   },
   "file_extension": ".py",
   "mimetype": "text/x-python",
   "name": "python",
   "nbconvert_exporter": "python",
   "pygments_lexer": "ipython3",
   "version": "3.7.6"
  }
 },
 "nbformat": 4,
 "nbformat_minor": 4
}
