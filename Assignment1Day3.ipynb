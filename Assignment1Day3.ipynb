{
 "cells": [
  {
   "cell_type": "code",
   "execution_count": 1,
   "metadata": {},
   "outputs": [
    {
     "name": "stdout",
     "output_type": "stream",
     "text": [
      "Enter height(in ft):3435\n",
      "Come down to 1000 ft\n"
     ]
    }
   ],
   "source": [
    "height = int(input('Enter height(in ft):'))\n",
    "if height < 1000:\n",
    "    print('Land the plane')\n",
    "elif 1000 < height < 5000:\n",
    "    print('Come down to 1000 ft')\n",
    "else:\n",
    "    print('Go Around and try later')"
   ]
  },
  {
   "cell_type": "code",
   "execution_count": null,
   "metadata": {},
   "outputs": [],
   "source": []
  }
 ],
 "metadata": {
  "kernelspec": {
   "display_name": "Python 3",
   "language": "python",
   "name": "python3"
  },
  "language_info": {
   "codemirror_mode": {
    "name": "ipython",
    "version": 3
   },
   "file_extension": ".py",
   "mimetype": "text/x-python",
   "name": "python",
   "nbconvert_exporter": "python",
   "pygments_lexer": "ipython3",
   "version": "3.7.6"
  }
 },
 "nbformat": 4,
 "nbformat_minor": 4
}
